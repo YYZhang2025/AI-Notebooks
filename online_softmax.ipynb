{
  "nbformat": 4,
  "nbformat_minor": 0,
  "metadata": {
    "colab": {
      "provenance": [],
      "authorship_tag": "ABX9TyNpreQhqOCd+zALZ/PekVXK",
      "include_colab_link": true
    },
    "kernelspec": {
      "name": "python3",
      "display_name": "Python 3"
    },
    "language_info": {
      "name": "python"
    }
  },
  "cells": [
    {
      "cell_type": "markdown",
      "metadata": {
        "id": "view-in-github",
        "colab_type": "text"
      },
      "source": [
        "<a href=\"https://colab.research.google.com/github/YYZhang2025/AI-Notebooks/blob/main/online_softmax.ipynb\" target=\"_parent\"><img src=\"https://colab.research.google.com/assets/colab-badge.svg\" alt=\"Open In Colab\"/></a>"
      ]
    },
    {
      "cell_type": "code",
      "execution_count": 2,
      "metadata": {
        "id": "AmCNbYrpl8Lx"
      },
      "outputs": [],
      "source": [
        "import numpy as np\n",
        "import timeit"
      ]
    },
    {
      "cell_type": "code",
      "source": [
        "def softmax_naive(x):\n",
        "    exp_x = np.exp(x)\n",
        "    return exp_x / np.sum(exp_x)"
      ],
      "metadata": {
        "id": "6vBa1HFrmENg"
      },
      "execution_count": 3,
      "outputs": []
    },
    {
      "cell_type": "code",
      "source": [
        "def softmax_safe(x):\n",
        "    x_max = np.max(x)\n",
        "    exp_x = np.exp(x - x_max)\n",
        "    return exp_x / np.sum(exp_x)"
      ],
      "metadata": {
        "id": "XcKqynPimR_l"
      },
      "execution_count": 4,
      "outputs": []
    },
    {
      "cell_type": "code",
      "source": [
        "def softmax_online(x):\n",
        "    m = -np.inf\n",
        "    z = 0.0\n",
        "\n",
        "    for xi in x:\n",
        "        if xi > m:\n",
        "            m_new = xi\n",
        "            z = np.exp(m - m_new) * z + np.exp(xi - m_new)\n",
        "            m = m_new\n",
        "        else:\n",
        "            z += np.exp(xi - m)\n",
        "\n",
        "    return np.array([np.exp(xi - m) / z for xi in x])"
      ],
      "metadata": {
        "id": "gkOkb0tnmafU"
      },
      "execution_count": 18,
      "outputs": []
    },
    {
      "cell_type": "code",
      "source": [
        "x = np.array([1000, 1001, 1002])  # Large values to test numerical stability\n",
        "\n",
        "print(\"Naive Softmax:   \", softmax_naive(x))   # Likely NaNs or infs"
      ],
      "metadata": {
        "colab": {
          "base_uri": "https://localhost:8080/"
        },
        "id": "QD3EvpmDnF89",
        "outputId": "a45649c0-9a75-4b85-a843-3fbf2336d56c"
      },
      "execution_count": 19,
      "outputs": [
        {
          "output_type": "stream",
          "name": "stdout",
          "text": [
            "Naive Softmax:    [nan nan nan]\n"
          ]
        },
        {
          "output_type": "stream",
          "name": "stderr",
          "text": [
            "/tmp/ipython-input-1511362724.py:2: RuntimeWarning: overflow encountered in exp\n",
            "  exp_x = np.exp(x)\n",
            "/tmp/ipython-input-1511362724.py:3: RuntimeWarning: invalid value encountered in divide\n",
            "  return exp_x / np.sum(exp_x)\n"
          ]
        }
      ]
    },
    {
      "cell_type": "code",
      "source": [
        "safe = softmax_safe(x)\n",
        "online = softmax_online(x)\n",
        "\n",
        "assert np.allclose(safe, online)"
      ],
      "metadata": {
        "id": "_9AO23AOnIRw"
      },
      "execution_count": 20,
      "outputs": []
    },
    {
      "cell_type": "code",
      "source": [],
      "metadata": {
        "id": "1TYMDMBcn5Go"
      },
      "execution_count": null,
      "outputs": []
    }
  ]
}